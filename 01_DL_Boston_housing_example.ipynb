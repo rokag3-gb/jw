{
  "nbformat": 4,
  "nbformat_minor": 0,
  "metadata": {
    "colab": {
      "provenance": [],
      "include_colab_link": true
    },
    "kernelspec": {
      "name": "python3",
      "display_name": "Python 3"
    },
    "language_info": {
      "name": "python"
    },
    "accelerator": "GPU"
  },
  "cells": [
    {
      "cell_type": "markdown",
      "metadata": {
        "id": "view-in-github",
        "colab_type": "text"
      },
      "source": [
        "<a href=\"https://colab.research.google.com/github/rokag3-gb/jw/blob/main/01_DL_Boston_housing_example.ipynb\" target=\"_parent\"><img src=\"https://colab.research.google.com/assets/colab-badge.svg\" alt=\"Open In Colab\"/></a>"
      ]
    },
    {
      "cell_type": "markdown",
      "source": [
        "### Boston housing data\n",
        "-  보스턴 시의 주택 가격에 대한 데이터이다.\n",
        "주택의 여러가진 요건들과 주택의 가격 정보가 포함되어 있다. 주택의 가격에 영향을 미치는 요소를 분석하고자 하는 목적으로 사용될 수 있다. 회귀분석 등의 분석에 활용될 수 있다.\n",
        "보스턴 주택 데이터는 여러 개의 측정지표들 (예를 들어, 범죄율, 학생/교사 비율 등)을 포함한, 보스턴 인근의 주택 가격의 중앙값(median value)이다. 이 데이터 집합은 14개의 변수를 포함하고 있다.\n",
        "\n",
        "- feature 설명\n",
        "\n",
        "  - [01] CRIM\n",
        "자치시(town) 별 1인당 범죄율\n",
        "\n",
        "  - [02]  ZN\n",
        "25,000 평방피트를 초과하는 거주지역의 비율\n",
        "\n",
        "  - [03]  INDUS\n",
        "비소매상업지역이 점유하고 있는 토지의 비율\n",
        "\n",
        "  - [04]  CHAS\n",
        "찰스강에 대한 더미변수(강의 경계에 위치한 경우는 1, 아니면 0)\n",
        "\n",
        "  - [05]  NOX\n",
        "10ppm 당 농축 일산화질소\n",
        "\n",
        "  - [06]  RM\n",
        "주택 1가구당 평균 방의 개수\n",
        "\n",
        "  - [07]  AGE\n",
        "1940년 이전에 건축된 소유주택의 비율\n",
        "\n",
        "  - [08]  DIS\n",
        "5개의 보스턴 직업센터까지의 접근성 지수\n",
        "\n",
        "  - [09]  RAD\n",
        "방사형 도로까지의 접근성 지수\n",
        "\n",
        "  - [10]  TAX\n",
        "10,000 달러 당 재산세율\n",
        "\n",
        "  - [11]  PTRATIO\n",
        "자치시(town)별 학생/교사 비율\n",
        "\n",
        "  - [12]  B\n",
        "1000(Bk-0.63)^2, 여기서 Bk는 자치시별 흑인의 비율을 말함.\n",
        "\n",
        "  - [13]  LSTAT\n",
        "모집단의 하위계층의 비율(%)\n",
        "\n",
        "  - [14]  MEDV\n",
        "본인 소유의 주택가격(중앙값) (단위: $1,000)"
      ],
      "metadata": {
        "id": "X1F21iJqX677"
      }
    },
    {
      "cell_type": "code",
      "metadata": {
        "id": "vgBcMlRtIPKW",
        "colab": {
          "base_uri": "https://localhost:8080/"
        },
        "outputId": "727f366b-e186-402e-b84b-4ae039a68006"
      },
      "source": [
        "from keras.datasets import boston_housing\n",
        "\n",
        "(train_data, train_targets),(test_data, test_targets)  = boston_housing.load_data()"
      ],
      "execution_count": null,
      "outputs": [
        {
          "output_type": "stream",
          "name": "stdout",
          "text": [
            "Downloading data from https://storage.googleapis.com/tensorflow/tf-keras-datasets/boston_housing.npz\n",
            "57026/57026 [==============================] - 0s 1us/step\n"
          ]
        }
      ]
    },
    {
      "cell_type": "code",
      "metadata": {
        "colab": {
          "base_uri": "https://localhost:8080/"
        },
        "id": "cUcHQCMLagnb",
        "outputId": "81bc5bd6-c0df-4475-fa7c-d3a00c55fda1"
      },
      "source": [
        "train_data.shape"
      ],
      "execution_count": null,
      "outputs": [
        {
          "output_type": "execute_result",
          "data": {
            "text/plain": [
              "(404, 13)"
            ]
          },
          "metadata": {},
          "execution_count": 2
        }
      ]
    },
    {
      "cell_type": "code",
      "metadata": {
        "id": "rLhm7_twbwtw",
        "colab": {
          "base_uri": "https://localhost:8080/"
        },
        "outputId": "803d1c34-fef3-4333-af7c-050b6822a264"
      },
      "source": [
        "train_targets"
      ],
      "execution_count": null,
      "outputs": [
        {
          "output_type": "execute_result",
          "data": {
            "text/plain": [
              "array([15.2, 42.3, 50. , 21.1, 17.7, 18.5, 11.3, 15.6, 15.6, 14.4, 12.1,\n",
              "       17.9, 23.1, 19.9, 15.7,  8.8, 50. , 22.5, 24.1, 27.5, 10.9, 30.8,\n",
              "       32.9, 24. , 18.5, 13.3, 22.9, 34.7, 16.6, 17.5, 22.3, 16.1, 14.9,\n",
              "       23.1, 34.9, 25. , 13.9, 13.1, 20.4, 20. , 15.2, 24.7, 22.2, 16.7,\n",
              "       12.7, 15.6, 18.4, 21. , 30.1, 15.1, 18.7,  9.6, 31.5, 24.8, 19.1,\n",
              "       22. , 14.5, 11. , 32. , 29.4, 20.3, 24.4, 14.6, 19.5, 14.1, 14.3,\n",
              "       15.6, 10.5,  6.3, 19.3, 19.3, 13.4, 36.4, 17.8, 13.5, 16.5,  8.3,\n",
              "       14.3, 16. , 13.4, 28.6, 43.5, 20.2, 22. , 23. , 20.7, 12.5, 48.5,\n",
              "       14.6, 13.4, 23.7, 50. , 21.7, 39.8, 38.7, 22.2, 34.9, 22.5, 31.1,\n",
              "       28.7, 46. , 41.7, 21. , 26.6, 15. , 24.4, 13.3, 21.2, 11.7, 21.7,\n",
              "       19.4, 50. , 22.8, 19.7, 24.7, 36.2, 14.2, 18.9, 18.3, 20.6, 24.6,\n",
              "       18.2,  8.7, 44. , 10.4, 13.2, 21.2, 37. , 30.7, 22.9, 20. , 19.3,\n",
              "       31.7, 32. , 23.1, 18.8, 10.9, 50. , 19.6,  5. , 14.4, 19.8, 13.8,\n",
              "       19.6, 23.9, 24.5, 25. , 19.9, 17.2, 24.6, 13.5, 26.6, 21.4, 11.9,\n",
              "       22.6, 19.6,  8.5, 23.7, 23.1, 22.4, 20.5, 23.6, 18.4, 35.2, 23.1,\n",
              "       27.9, 20.6, 23.7, 28. , 13.6, 27.1, 23.6, 20.6, 18.2, 21.7, 17.1,\n",
              "        8.4, 25.3, 13.8, 22.2, 18.4, 20.7, 31.6, 30.5, 20.3,  8.8, 19.2,\n",
              "       19.4, 23.1, 23. , 14.8, 48.8, 22.6, 33.4, 21.1, 13.6, 32.2, 13.1,\n",
              "       23.4, 18.9, 23.9, 11.8, 23.3, 22.8, 19.6, 16.7, 13.4, 22.2, 20.4,\n",
              "       21.8, 26.4, 14.9, 24.1, 23.8, 12.3, 29.1, 21. , 19.5, 23.3, 23.8,\n",
              "       17.8, 11.5, 21.7, 19.9, 25. , 33.4, 28.5, 21.4, 24.3, 27.5, 33.1,\n",
              "       16.2, 23.3, 48.3, 22.9, 22.8, 13.1, 12.7, 22.6, 15. , 15.3, 10.5,\n",
              "       24. , 18.5, 21.7, 19.5, 33.2, 23.2,  5. , 19.1, 12.7, 22.3, 10.2,\n",
              "       13.9, 16.3, 17. , 20.1, 29.9, 17.2, 37.3, 45.4, 17.8, 23.2, 29. ,\n",
              "       22. , 18. , 17.4, 34.6, 20.1, 25. , 15.6, 24.8, 28.2, 21.2, 21.4,\n",
              "       23.8, 31. , 26.2, 17.4, 37.9, 17.5, 20. ,  8.3, 23.9,  8.4, 13.8,\n",
              "        7.2, 11.7, 17.1, 21.6, 50. , 16.1, 20.4, 20.6, 21.4, 20.6, 36.5,\n",
              "        8.5, 24.8, 10.8, 21.9, 17.3, 18.9, 36.2, 14.9, 18.2, 33.3, 21.8,\n",
              "       19.7, 31.6, 24.8, 19.4, 22.8,  7.5, 44.8, 16.8, 18.7, 50. , 50. ,\n",
              "       19.5, 20.1, 50. , 17.2, 20.8, 19.3, 41.3, 20.4, 20.5, 13.8, 16.5,\n",
              "       23.9, 20.6, 31.5, 23.3, 16.8, 14. , 33.8, 36.1, 12.8, 18.3, 18.7,\n",
              "       19.1, 29. , 30.1, 50. , 50. , 22. , 11.9, 37.6, 50. , 22.7, 20.8,\n",
              "       23.5, 27.9, 50. , 19.3, 23.9, 22.6, 15.2, 21.7, 19.2, 43.8, 20.3,\n",
              "       33.2, 19.9, 22.5, 32.7, 22. , 17.1, 19. , 15. , 16.1, 25.1, 23.7,\n",
              "       28.7, 37.2, 22.6, 16.4, 25. , 29.8, 22.1, 17.4, 18.1, 30.3, 17.5,\n",
              "       24.7, 12.6, 26.5, 28.7, 13.3, 10.4, 24.4, 23. , 20. , 17.8,  7. ,\n",
              "       11.8, 24.4, 13.8, 19.4, 25.2, 19.4, 19.4, 29.1])"
            ]
          },
          "metadata": {},
          "execution_count": 5
        }
      ]
    },
    {
      "cell_type": "code",
      "metadata": {
        "colab": {
          "base_uri": "https://localhost:8080/"
        },
        "id": "lKJh3ttbb60Y",
        "outputId": "8f3007f2-25a5-432d-c6d7-0af1f2c905b7"
      },
      "source": [
        "test_data.shape"
      ],
      "execution_count": null,
      "outputs": [
        {
          "output_type": "execute_result",
          "data": {
            "text/plain": [
              "(102, 13)"
            ]
          },
          "metadata": {},
          "execution_count": 6
        }
      ]
    },
    {
      "cell_type": "code",
      "metadata": {
        "colab": {
          "base_uri": "https://localhost:8080/"
        },
        "id": "aAb0rRmHcI3F",
        "outputId": "dd9b1541-dbf5-4d86-e774-c4cd5acd85e4"
      },
      "source": [
        "test_targets.shape"
      ],
      "execution_count": null,
      "outputs": [
        {
          "output_type": "execute_result",
          "data": {
            "text/plain": [
              "(102,)"
            ]
          },
          "metadata": {},
          "execution_count": 7
        }
      ]
    },
    {
      "cell_type": "code",
      "metadata": {
        "id": "jafp7QX_cMoc",
        "colab": {
          "base_uri": "https://localhost:8080/"
        },
        "outputId": "2b8654fb-8385-401a-99ca-ea9fbda8432e"
      },
      "source": [
        "train_data"
      ],
      "execution_count": null,
      "outputs": [
        {
          "output_type": "execute_result",
          "data": {
            "text/plain": [
              "array([[1.23247e+00, 0.00000e+00, 8.14000e+00, ..., 2.10000e+01,\n",
              "        3.96900e+02, 1.87200e+01],\n",
              "       [2.17700e-02, 8.25000e+01, 2.03000e+00, ..., 1.47000e+01,\n",
              "        3.95380e+02, 3.11000e+00],\n",
              "       [4.89822e+00, 0.00000e+00, 1.81000e+01, ..., 2.02000e+01,\n",
              "        3.75520e+02, 3.26000e+00],\n",
              "       ...,\n",
              "       [3.46600e-02, 3.50000e+01, 6.06000e+00, ..., 1.69000e+01,\n",
              "        3.62250e+02, 7.83000e+00],\n",
              "       [2.14918e+00, 0.00000e+00, 1.95800e+01, ..., 1.47000e+01,\n",
              "        2.61950e+02, 1.57900e+01],\n",
              "       [1.43900e-02, 6.00000e+01, 2.93000e+00, ..., 1.56000e+01,\n",
              "        3.76700e+02, 4.38000e+00]])"
            ]
          },
          "metadata": {},
          "execution_count": 8
        }
      ]
    },
    {
      "cell_type": "code",
      "metadata": {
        "colab": {
          "base_uri": "https://localhost:8080/",
          "height": 430
        },
        "id": "fmnoL-1ScRVn",
        "outputId": "9125a4bc-dacc-451d-d3ef-93d8c5135073"
      },
      "source": [
        "import matplotlib.pyplot as plt\n",
        "# 아래와 같이 박스플랏을 그려보세요.\n",
        "# code here\n",
        "\n"
      ],
      "execution_count": null,
      "outputs": [
        {
          "output_type": "display_data",
          "data": {
            "text/plain": [
              "<Figure size 640x480 with 1 Axes>"
            ],
            "image/png": "[encoded data removed]"
          },
          "metadata": {}
        }
      ]
    },
    {
      "cell_type": "code",
      "metadata": {
        "colab": {
          "base_uri": "https://localhost:8080/"
        },
        "id": "Dg8ERRtnccOd",
        "outputId": "4a64f2e6-20b8-44c0-f2c2-adf3fe4ff3b1"
      },
      "source": [
        "# 각 열별 평균을 구해보세요.\n",
        "# code here\n",
        "\n",
        "mean"
      ],
      "execution_count": null,
      "outputs": [
        {
          "output_type": "execute_result",
          "data": {
            "text/plain": [
              "array([3.74511057e+00, 1.14801980e+01, 1.11044307e+01, 6.18811881e-02,\n",
              "       5.57355941e-01, 6.26708168e+00, 6.90106436e+01, 3.74027079e+00,\n",
              "       9.44059406e+00, 4.05898515e+02, 1.84759901e+01, 3.54783168e+02,\n",
              "       1.27408168e+01])"
            ]
          },
          "metadata": {},
          "execution_count": 3
        }
      ]
    },
    {
      "cell_type": "code",
      "metadata": {
        "id": "AGiS8ziUdNV5",
        "colab": {
          "base_uri": "https://localhost:8080/"
        },
        "outputId": "fb60c5c2-ed56-4c4b-eb79-92dc090b3802"
      },
      "source": [
        "# train_data 에서 mean 평균을 빼서 train_data에 다시 담으세요.\n",
        "# code here\n",
        "\n",
        "train_data"
      ],
      "execution_count": null,
      "outputs": [
        {
          "output_type": "execute_result",
          "data": {
            "text/plain": [
              "array([[ -2.51264057, -11.48019802,  -2.96443069, ...,   2.5240099 ,\n",
              "         42.11683168,   5.97918317],\n",
              "       [ -3.72334057,  71.01980198,  -9.07443069, ...,  -3.7759901 ,\n",
              "         40.59683168,  -9.63081683],\n",
              "       [  1.15310943, -11.48019802,   6.99556931, ...,   1.7240099 ,\n",
              "         20.73683168,  -9.48081683],\n",
              "       ...,\n",
              "       [ -3.71045057,  23.51980198,  -5.04443069, ...,  -1.5759901 ,\n",
              "          7.46683168,  -4.91081683],\n",
              "       [ -1.59593057, -11.48019802,   8.47556931, ...,  -3.7759901 ,\n",
              "        -92.83316832,   3.04918317],\n",
              "       [ -3.73072057,  48.51980198,  -8.17443069, ...,  -2.8759901 ,\n",
              "         21.91683168,  -8.36081683]])"
            ]
          },
          "metadata": {},
          "execution_count": 4
        }
      ]
    },
    {
      "cell_type": "code",
      "metadata": {
        "colab": {
          "base_uri": "https://localhost:8080/"
        },
        "id": "h5mq-0isdalc",
        "outputId": "7cc13a03-dcad-4d96-990a-d1cc7ca158de"
      },
      "source": [
        "# train_data의 각 열별 표준편차를 구해보세요.\n",
        "# code here\n",
        "std"
      ],
      "execution_count": null,
      "outputs": [
        {
          "output_type": "execute_result",
          "data": {
            "text/plain": [
              "array([9.22929073e+00, 2.37382770e+01, 6.80287253e+00, 2.40939633e-01,\n",
              "       1.17147847e-01, 7.08908627e-01, 2.79060634e+01, 2.02770050e+00,\n",
              "       8.68758849e+00, 1.66168506e+02, 2.19765689e+00, 9.39946015e+01,\n",
              "       7.24556085e+00])"
            ]
          },
          "metadata": {},
          "execution_count": 5
        }
      ]
    },
    {
      "cell_type": "code",
      "metadata": {
        "id": "jKAFnnuNdk0u",
        "colab": {
          "base_uri": "https://localhost:8080/"
        },
        "outputId": "88fc2ad1-078d-4c3a-840b-570938cfa426"
      },
      "source": [
        "# train_data를 std 로 나눈 결과를 다시 train_data에 담으세요.\n",
        "# code here\n",
        "\n",
        "train_data"
      ],
      "execution_count": null,
      "outputs": [
        {
          "output_type": "execute_result",
          "data": {
            "text/plain": [
              "array([[-0.27224633, -0.48361547, -0.43576161, ...,  1.14850044,\n",
              "         0.44807713,  0.8252202 ],\n",
              "       [-0.40342651,  2.99178419, -1.33391162, ..., -1.71818909,\n",
              "         0.43190599, -1.32920239],\n",
              "       [ 0.1249402 , -0.48361547,  1.0283258 , ...,  0.78447637,\n",
              "         0.22061726, -1.30850006],\n",
              "       ...,\n",
              "       [-0.40202987,  0.99079651, -0.7415148 , ..., -0.71712291,\n",
              "         0.07943894, -0.67776904],\n",
              "       [-0.17292018, -0.48361547,  1.24588095, ..., -1.71818909,\n",
              "        -0.98764362,  0.42083466],\n",
              "       [-0.40422614,  2.04394792, -1.20161456, ..., -1.30866202,\n",
              "         0.23317118, -1.15392266]])"
            ]
          },
          "metadata": {},
          "execution_count": 6
        }
      ]
    },
    {
      "cell_type": "code",
      "metadata": {
        "colab": {
          "base_uri": "https://localhost:8080/",
          "height": 430
        },
        "id": "CnMb8sFWdtUL",
        "outputId": "ec9821b6-8a30-41d1-dabd-4b872d430cc3"
      },
      "source": [
        "# 아래와 같이 박스플랏을 그려보세요.\n",
        "# code here\n",
        "\n"
      ],
      "execution_count": null,
      "outputs": [
        {
          "output_type": "display_data",
          "data": {
            "text/plain": [
              "<Figure size 640x480 with 1 Axes>"
            ],
            "image/png": "[encoded data removed]"
          },
          "metadata": {}
        }
      ]
    },
    {
      "cell_type": "code",
      "metadata": {
        "id": "0mgpRyqed096"
      },
      "source": [
        "test_data -= mean\n",
        "test_data /= std"
      ],
      "execution_count": null,
      "outputs": []
    },
    {
      "cell_type": "code",
      "metadata": {
        "id": "XhDCrCSXePX_"
      },
      "source": [
        "from keras import models\n",
        "from keras import layers\n",
        "\n",
        "# 모델\n",
        "model = models.Sequential()\n",
        "model.add(layers.Dense(64, activation='relu', input_shape=(train_data.shape[1],)))\n",
        "model.add(layers.Dense(64, activation='relu'))\n",
        "model.add(layers.Dense(1))\n",
        "\n",
        "#학습방법\n",
        "model.compile(optimizer='rmsprop', loss='mse', metrics=['mae'])"
      ],
      "execution_count": null,
      "outputs": []
    },
    {
      "cell_type": "code",
      "metadata": {
        "colab": {
          "base_uri": "https://localhost:8080/"
        },
        "id": "AJC-5HvRf77P",
        "outputId": "dcb7da5b-eec5-45de-c04d-1e3b2eeccb14"
      },
      "source": [
        "model.fit(train_data, train_targets, epochs=80, batch_size=16, validation_split=0.2)"
      ],
      "execution_count": null,
      "outputs": [
        {
          "output_type": "stream",
          "name": "stdout",
          "text": [
            "Epoch 1/80\n",
            "21/21 [==============================] - 3s 15ms/step - loss: 477.8823 - mae: 19.9163 - val_loss: 458.3798 - val_mae: 19.5192\n",
            "Epoch 2/80\n",
            "21/21 [==============================] - 0s 5ms/step - loss: 317.7105 - mae: 15.7271 - val_loss: 278.0340 - val_mae: 14.5720\n",
            "Epoch 3/80\n",
            "21/21 [==============================] - 0s 5ms/step - loss: 164.9937 - mae: 10.6003 - val_loss: 141.2735 - val_mae: 9.3583\n",
            "Epoch 4/80\n",
            "21/21 [==============================] - 0s 5ms/step - loss: 75.7133 - mae: 6.6509 - val_loss: 71.8467 - val_mae: 6.2292\n",
            "Epoch 5/80\n",
            "21/21 [==============================] - 0s 5ms/step - loss: 44.4875 - mae: 4.7538 - val_loss: 48.8030 - val_mae: 5.0306\n",
            "Epoch 6/80\n",
            "21/21 [==============================] - 0s 6ms/step - loss: 32.9241 - mae: 3.9046 - val_loss: 34.8695 - val_mae: 4.1534\n",
            "Epoch 7/80\n",
            "21/21 [==============================] - 0s 5ms/step - loss: 27.0582 - mae: 3.5151 - val_loss: 28.6670 - val_mae: 3.8361\n",
            "Epoch 8/80\n",
            "21/21 [==============================] - 0s 5ms/step - loss: 23.9057 - mae: 3.2379 - val_loss: 24.7515 - val_mae: 3.6878\n",
            "Epoch 9/80\n",
            "21/21 [==============================] - 0s 6ms/step - loss: 21.3010 - mae: 3.0651 - val_loss: 21.0157 - val_mae: 3.3999\n",
            "Epoch 10/80\n",
            "21/21 [==============================] - 0s 5ms/step - loss: 19.2807 - mae: 2.9853 - val_loss: 20.3346 - val_mae: 3.4065\n",
            "Epoch 11/80\n",
            "21/21 [==============================] - 0s 5ms/step - loss: 18.0551 - mae: 2.7865 - val_loss: 17.3980 - val_mae: 3.0969\n",
            "Epoch 12/80\n",
            "21/21 [==============================] - 0s 5ms/step - loss: 16.6204 - mae: 2.7224 - val_loss: 16.1752 - val_mae: 3.0438\n",
            "Epoch 13/80\n",
            "21/21 [==============================] - 0s 5ms/step - loss: 15.4936 - mae: 2.6372 - val_loss: 15.1534 - val_mae: 2.9787\n",
            "Epoch 14/80\n",
            "21/21 [==============================] - 0s 5ms/step - loss: 14.3848 - mae: 2.5595 - val_loss: 14.7160 - val_mae: 2.8935\n",
            "Epoch 15/80\n",
            "21/21 [==============================] - 0s 5ms/step - loss: 13.8584 - mae: 2.5141 - val_loss: 14.3257 - val_mae: 2.8399\n",
            "Epoch 16/80\n",
            "21/21 [==============================] - 0s 7ms/step - loss: 12.7620 - mae: 2.3901 - val_loss: 14.6159 - val_mae: 2.9625\n",
            "Epoch 17/80\n",
            "21/21 [==============================] - 0s 7ms/step - loss: 12.1767 - mae: 2.4426 - val_loss: 13.6175 - val_mae: 2.8832\n",
            "Epoch 18/80\n",
            "21/21 [==============================] - 0s 9ms/step - loss: 11.9790 - mae: 2.3263 - val_loss: 12.9572 - val_mae: 2.6378\n",
            "Epoch 19/80\n",
            "21/21 [==============================] - 0s 7ms/step - loss: 11.5560 - mae: 2.3479 - val_loss: 14.4525 - val_mae: 2.8521\n",
            "Epoch 20/80\n",
            "21/21 [==============================] - 0s 6ms/step - loss: 11.4159 - mae: 2.3191 - val_loss: 12.4880 - val_mae: 2.6533\n",
            "Epoch 21/80\n",
            "21/21 [==============================] - 0s 6ms/step - loss: 10.7088 - mae: 2.2428 - val_loss: 12.6561 - val_mae: 2.5914\n",
            "Epoch 22/80\n",
            "21/21 [==============================] - 0s 7ms/step - loss: 10.5482 - mae: 2.2707 - val_loss: 12.7135 - val_mae: 2.7233\n",
            "Epoch 23/80\n",
            "21/21 [==============================] - 0s 7ms/step - loss: 10.2969 - mae: 2.2292 - val_loss: 13.5731 - val_mae: 2.8770\n",
            "Epoch 24/80\n",
            "21/21 [==============================] - 0s 8ms/step - loss: 10.1071 - mae: 2.2367 - val_loss: 13.5983 - val_mae: 2.7233\n",
            "Epoch 25/80\n",
            "21/21 [==============================] - 0s 6ms/step - loss: 9.8037 - mae: 2.2074 - val_loss: 12.2637 - val_mae: 2.6527\n",
            "Epoch 26/80\n",
            "21/21 [==============================] - 0s 7ms/step - loss: 9.6097 - mae: 2.1843 - val_loss: 12.6135 - val_mae: 2.7150\n",
            "Epoch 27/80\n",
            "21/21 [==============================] - 0s 7ms/step - loss: 9.5179 - mae: 2.1658 - val_loss: 15.4162 - val_mae: 2.9149\n",
            "Epoch 28/80\n",
            "21/21 [==============================] - 0s 7ms/step - loss: 9.2893 - mae: 2.1266 - val_loss: 13.5089 - val_mae: 2.7929\n",
            "Epoch 29/80\n",
            "21/21 [==============================] - 0s 7ms/step - loss: 9.4433 - mae: 2.1475 - val_loss: 12.9922 - val_mae: 2.5810\n",
            "Epoch 30/80\n",
            "21/21 [==============================] - 0s 7ms/step - loss: 9.1580 - mae: 2.1568 - val_loss: 13.2200 - val_mae: 2.6628\n",
            "Epoch 31/80\n",
            "21/21 [==============================] - 0s 7ms/step - loss: 9.1736 - mae: 2.1257 - val_loss: 13.1895 - val_mae: 2.7074\n",
            "Epoch 32/80\n",
            "21/21 [==============================] - 0s 7ms/step - loss: 8.8877 - mae: 2.0872 - val_loss: 12.9583 - val_mae: 2.6271\n",
            "Epoch 33/80\n",
            "21/21 [==============================] - 0s 7ms/step - loss: 8.7230 - mae: 2.0993 - val_loss: 12.8966 - val_mae: 2.6559\n",
            "Epoch 34/80\n",
            "21/21 [==============================] - 0s 7ms/step - loss: 8.6984 - mae: 2.0801 - val_loss: 13.1020 - val_mae: 2.6441\n",
            "Epoch 35/80\n",
            "21/21 [==============================] - 0s 10ms/step - loss: 8.6449 - mae: 2.0490 - val_loss: 13.7365 - val_mae: 2.6043\n",
            "Epoch 36/80\n",
            "21/21 [==============================] - 0s 5ms/step - loss: 8.5210 - mae: 2.0171 - val_loss: 14.2390 - val_mae: 2.5221\n",
            "Epoch 37/80\n",
            "21/21 [==============================] - 0s 5ms/step - loss: 8.2835 - mae: 2.0595 - val_loss: 13.1257 - val_mae: 2.6130\n",
            "Epoch 38/80\n",
            "21/21 [==============================] - 0s 6ms/step - loss: 8.4386 - mae: 2.0177 - val_loss: 16.7124 - val_mae: 3.0058\n",
            "Epoch 39/80\n",
            "21/21 [==============================] - 0s 5ms/step - loss: 8.3127 - mae: 2.0391 - val_loss: 13.3282 - val_mae: 2.5905\n",
            "Epoch 40/80\n",
            "21/21 [==============================] - 0s 5ms/step - loss: 7.9356 - mae: 1.9821 - val_loss: 13.4913 - val_mae: 2.6107\n",
            "Epoch 41/80\n",
            "21/21 [==============================] - 0s 5ms/step - loss: 8.0481 - mae: 2.0170 - val_loss: 13.9212 - val_mae: 2.6742\n",
            "Epoch 42/80\n",
            "21/21 [==============================] - 0s 5ms/step - loss: 7.8794 - mae: 1.9472 - val_loss: 13.9842 - val_mae: 2.5959\n",
            "Epoch 43/80\n",
            "21/21 [==============================] - 0s 5ms/step - loss: 7.8143 - mae: 1.9556 - val_loss: 13.4957 - val_mae: 2.6174\n",
            "Epoch 44/80\n",
            "21/21 [==============================] - 0s 5ms/step - loss: 7.9269 - mae: 1.9869 - val_loss: 13.3613 - val_mae: 2.6871\n",
            "Epoch 45/80\n",
            "21/21 [==============================] - 0s 5ms/step - loss: 7.7833 - mae: 1.9398 - val_loss: 13.4305 - val_mae: 2.6659\n",
            "Epoch 46/80\n",
            "21/21 [==============================] - 0s 5ms/step - loss: 7.5740 - mae: 1.8904 - val_loss: 15.1187 - val_mae: 2.5931\n",
            "Epoch 47/80\n",
            "21/21 [==============================] - 0s 6ms/step - loss: 7.4648 - mae: 1.9379 - val_loss: 15.1940 - val_mae: 2.7111\n",
            "Epoch 48/80\n",
            "21/21 [==============================] - 0s 5ms/step - loss: 7.5252 - mae: 1.9120 - val_loss: 13.6006 - val_mae: 2.6510\n",
            "Epoch 49/80\n",
            "21/21 [==============================] - 0s 5ms/step - loss: 7.2218 - mae: 1.8746 - val_loss: 14.0176 - val_mae: 2.6260\n",
            "Epoch 50/80\n",
            "21/21 [==============================] - 0s 5ms/step - loss: 7.3854 - mae: 1.9171 - val_loss: 13.5216 - val_mae: 2.6280\n",
            "Epoch 51/80\n",
            "21/21 [==============================] - 0s 5ms/step - loss: 7.3454 - mae: 1.8882 - val_loss: 13.8180 - val_mae: 2.5826\n",
            "Epoch 52/80\n",
            "21/21 [==============================] - 0s 5ms/step - loss: 7.0754 - mae: 1.8421 - val_loss: 15.9559 - val_mae: 2.5796\n",
            "Epoch 53/80\n",
            "21/21 [==============================] - 0s 5ms/step - loss: 6.8184 - mae: 1.8849 - val_loss: 14.3965 - val_mae: 2.7408\n",
            "Epoch 54/80\n",
            "21/21 [==============================] - 0s 6ms/step - loss: 6.9475 - mae: 1.8292 - val_loss: 14.1267 - val_mae: 2.6938\n",
            "Epoch 55/80\n",
            "21/21 [==============================] - 0s 5ms/step - loss: 7.0737 - mae: 1.8534 - val_loss: 14.7969 - val_mae: 2.6467\n",
            "Epoch 56/80\n",
            "21/21 [==============================] - 0s 6ms/step - loss: 6.7242 - mae: 1.8073 - val_loss: 18.0980 - val_mae: 2.9135\n",
            "Epoch 57/80\n",
            "21/21 [==============================] - 0s 5ms/step - loss: 7.0040 - mae: 1.8766 - val_loss: 15.2407 - val_mae: 2.7202\n",
            "Epoch 58/80\n",
            "21/21 [==============================] - 0s 5ms/step - loss: 6.6865 - mae: 1.7938 - val_loss: 14.3053 - val_mae: 2.6017\n",
            "Epoch 59/80\n",
            "21/21 [==============================] - 0s 5ms/step - loss: 6.6011 - mae: 1.7955 - val_loss: 15.4149 - val_mae: 2.5948\n",
            "Epoch 60/80\n",
            "21/21 [==============================] - 0s 5ms/step - loss: 6.6699 - mae: 1.8157 - val_loss: 14.6840 - val_mae: 2.5895\n",
            "Epoch 61/80\n",
            "21/21 [==============================] - 0s 6ms/step - loss: 6.4475 - mae: 1.7852 - val_loss: 14.3660 - val_mae: 2.5710\n",
            "Epoch 62/80\n",
            "21/21 [==============================] - 0s 5ms/step - loss: 6.4290 - mae: 1.7506 - val_loss: 14.3970 - val_mae: 2.5937\n",
            "Epoch 63/80\n",
            "21/21 [==============================] - 0s 5ms/step - loss: 6.4051 - mae: 1.7777 - val_loss: 15.1400 - val_mae: 2.6050\n",
            "Epoch 64/80\n",
            "21/21 [==============================] - 0s 5ms/step - loss: 6.4936 - mae: 1.7614 - val_loss: 15.7207 - val_mae: 2.4754\n",
            "Epoch 65/80\n",
            "21/21 [==============================] - 0s 5ms/step - loss: 6.4137 - mae: 1.7550 - val_loss: 14.1993 - val_mae: 2.5803\n",
            "Epoch 66/80\n",
            "21/21 [==============================] - 0s 5ms/step - loss: 6.2887 - mae: 1.7223 - val_loss: 16.0644 - val_mae: 2.4878\n",
            "Epoch 67/80\n",
            "21/21 [==============================] - 0s 6ms/step - loss: 6.4532 - mae: 1.7537 - val_loss: 15.0643 - val_mae: 2.5299\n",
            "Epoch 68/80\n",
            "21/21 [==============================] - 0s 5ms/step - loss: 6.2254 - mae: 1.7628 - val_loss: 14.5556 - val_mae: 2.4999\n",
            "Epoch 69/80\n",
            "21/21 [==============================] - 0s 5ms/step - loss: 6.1184 - mae: 1.7301 - val_loss: 14.4876 - val_mae: 2.5781\n",
            "Epoch 70/80\n",
            "21/21 [==============================] - 0s 5ms/step - loss: 6.1394 - mae: 1.7059 - val_loss: 14.8303 - val_mae: 2.6930\n",
            "Epoch 71/80\n",
            "21/21 [==============================] - 0s 5ms/step - loss: 6.0108 - mae: 1.6872 - val_loss: 15.3526 - val_mae: 2.5526\n",
            "Epoch 72/80\n",
            "21/21 [==============================] - 0s 5ms/step - loss: 5.8533 - mae: 1.6648 - val_loss: 16.6950 - val_mae: 2.4813\n",
            "Epoch 73/80\n",
            "21/21 [==============================] - 0s 5ms/step - loss: 6.0547 - mae: 1.7467 - val_loss: 14.5619 - val_mae: 2.6879\n",
            "Epoch 74/80\n",
            "21/21 [==============================] - 0s 6ms/step - loss: 5.8694 - mae: 1.7099 - val_loss: 14.9549 - val_mae: 2.5474\n",
            "Epoch 75/80\n",
            "21/21 [==============================] - 0s 5ms/step - loss: 5.9365 - mae: 1.6598 - val_loss: 17.4983 - val_mae: 2.4909\n",
            "Epoch 76/80\n",
            "21/21 [==============================] - 0s 5ms/step - loss: 5.8035 - mae: 1.6944 - val_loss: 17.3376 - val_mae: 2.6232\n",
            "Epoch 77/80\n",
            "21/21 [==============================] - 0s 5ms/step - loss: 6.0698 - mae: 1.7468 - val_loss: 14.6294 - val_mae: 2.6385\n",
            "Epoch 78/80\n",
            "21/21 [==============================] - 0s 5ms/step - loss: 5.9737 - mae: 1.6589 - val_loss: 16.4418 - val_mae: 2.7428\n",
            "Epoch 79/80\n",
            "21/21 [==============================] - 0s 5ms/step - loss: 5.6189 - mae: 1.6637 - val_loss: 16.5666 - val_mae: 2.4608\n",
            "Epoch 80/80\n",
            "21/21 [==============================] - 0s 5ms/step - loss: 5.5992 - mae: 1.6629 - val_loss: 17.9335 - val_mae: 2.6895\n"
          ]
        },
        {
          "output_type": "execute_result",
          "data": {
            "text/plain": [
              "<keras.src.callbacks.History at 0x7be13e5df9a0>"
            ]
          },
          "metadata": {},
          "execution_count": 17
        }
      ]
    },
    {
      "cell_type": "code",
      "metadata": {
        "colab": {
          "base_uri": "https://localhost:8080/"
        },
        "id": "dJ12Oqzhgcbs",
        "outputId": "0fc082c0-654e-4f87-bc52-d35f442309b3"
      },
      "source": [
        "# 평가\n",
        "\n",
        "model.evaluate(test_data, test_targets)"
      ],
      "execution_count": null,
      "outputs": [
        {
          "output_type": "stream",
          "name": "stdout",
          "text": [
            "4/4 [==============================] - 0s 4ms/step - loss: 25.4527 - mae: 3.1303\n"
          ]
        },
        {
          "output_type": "execute_result",
          "data": {
            "text/plain": [
              "[25.452709197998047, 3.130279541015625]"
            ]
          },
          "metadata": {},
          "execution_count": 18
        }
      ]
    },
    {
      "cell_type": "markdown",
      "source": [],
      "metadata": {
        "id": "uU9Zw6141vhh"
      }
    }
  ]
}